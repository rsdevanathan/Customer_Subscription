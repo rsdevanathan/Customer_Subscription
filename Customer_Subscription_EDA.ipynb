{
  "cells": [
    {
      "cell_type": "code",
      "execution_count": null,
      "id": "732a0232",
      "metadata": {
        "id": "732a0232"
      },
      "outputs": [],
      "source": [
        "import numpy as np\n",
        "import pandas as pd\n",
        "from matplotlib import pyplot as plt\n",
        "import seaborn as sns\n",
        "from sklearn.preprocessing import OneHotEncoder\n",
        "from sklearn.compose import make_column_transformer\n",
        "from sklearn.preprocessing import StandardScaler\n",
        "from sklearn.pipeline import make_pipeline"
      ]
    },
    {
      "cell_type": "code",
      "execution_count": null,
      "id": "b01e009f",
      "metadata": {
        "id": "b01e009f"
      },
      "outputs": [],
      "source": [
        "train = pd.read_excel('https://github.com/rsdevanathan/Customer_Subscription/blob/main/train_file.xlsx?raw=true')"
      ]
    },
    {
      "cell_type": "code",
      "execution_count": null,
      "id": "8830f080",
      "metadata": {
        "id": "8830f080",
        "colab": {
          "base_uri": "https://localhost:8080/",
          "height": 270
        },
        "outputId": "6b71100e-c589-4471-f0a6-60441c11d49f"
      },
      "outputs": [
        {
          "output_type": "execute_result",
          "data": {
            "text/html": [
              "\n",
              "  <div id=\"df-5a0086c4-149a-4df1-85e6-ca876173c063\">\n",
              "    <div class=\"colab-df-container\">\n",
              "      <div>\n",
              "<style scoped>\n",
              "    .dataframe tbody tr th:only-of-type {\n",
              "        vertical-align: middle;\n",
              "    }\n",
              "\n",
              "    .dataframe tbody tr th {\n",
              "        vertical-align: top;\n",
              "    }\n",
              "\n",
              "    .dataframe thead th {\n",
              "        text-align: right;\n",
              "    }\n",
              "</style>\n",
              "<table border=\"1\" class=\"dataframe\">\n",
              "  <thead>\n",
              "    <tr style=\"text-align: right;\">\n",
              "      <th></th>\n",
              "      <th>age</th>\n",
              "      <th>job</th>\n",
              "      <th>marital</th>\n",
              "      <th>education</th>\n",
              "      <th>default</th>\n",
              "      <th>housing</th>\n",
              "      <th>loan</th>\n",
              "      <th>contact</th>\n",
              "      <th>month</th>\n",
              "      <th>day_of_week</th>\n",
              "      <th>duration</th>\n",
              "      <th>campaign</th>\n",
              "      <th>previous</th>\n",
              "      <th>poutcome</th>\n",
              "      <th>y</th>\n",
              "    </tr>\n",
              "  </thead>\n",
              "  <tbody>\n",
              "    <tr>\n",
              "      <th>0</th>\n",
              "      <td>49</td>\n",
              "      <td>blue-collar</td>\n",
              "      <td>married</td>\n",
              "      <td>basic.9y</td>\n",
              "      <td>unknown</td>\n",
              "      <td>no</td>\n",
              "      <td>no</td>\n",
              "      <td>cellular</td>\n",
              "      <td>nov</td>\n",
              "      <td>wed</td>\n",
              "      <td>227</td>\n",
              "      <td>4</td>\n",
              "      <td>0</td>\n",
              "      <td>nonexistent</td>\n",
              "      <td>no</td>\n",
              "    </tr>\n",
              "    <tr>\n",
              "      <th>1</th>\n",
              "      <td>37</td>\n",
              "      <td>entrepreneur</td>\n",
              "      <td>married</td>\n",
              "      <td>university.degree</td>\n",
              "      <td>no</td>\n",
              "      <td>no</td>\n",
              "      <td>no</td>\n",
              "      <td>telephone</td>\n",
              "      <td>nov</td>\n",
              "      <td>wed</td>\n",
              "      <td>202</td>\n",
              "      <td>2</td>\n",
              "      <td>1</td>\n",
              "      <td>failure</td>\n",
              "      <td>no</td>\n",
              "    </tr>\n",
              "    <tr>\n",
              "      <th>2</th>\n",
              "      <td>78</td>\n",
              "      <td>retired</td>\n",
              "      <td>married</td>\n",
              "      <td>basic.4y</td>\n",
              "      <td>no</td>\n",
              "      <td>no</td>\n",
              "      <td>no</td>\n",
              "      <td>cellular</td>\n",
              "      <td>jul</td>\n",
              "      <td>mon</td>\n",
              "      <td>1148</td>\n",
              "      <td>1</td>\n",
              "      <td>0</td>\n",
              "      <td>nonexistent</td>\n",
              "      <td>yes</td>\n",
              "    </tr>\n",
              "    <tr>\n",
              "      <th>3</th>\n",
              "      <td>36</td>\n",
              "      <td>admin.</td>\n",
              "      <td>married</td>\n",
              "      <td>university.degree</td>\n",
              "      <td>no</td>\n",
              "      <td>yes</td>\n",
              "      <td>no</td>\n",
              "      <td>telephone</td>\n",
              "      <td>may</td>\n",
              "      <td>mon</td>\n",
              "      <td>120</td>\n",
              "      <td>2</td>\n",
              "      <td>0</td>\n",
              "      <td>nonexistent</td>\n",
              "      <td>no</td>\n",
              "    </tr>\n",
              "    <tr>\n",
              "      <th>4</th>\n",
              "      <td>59</td>\n",
              "      <td>retired</td>\n",
              "      <td>divorced</td>\n",
              "      <td>university.degree</td>\n",
              "      <td>no</td>\n",
              "      <td>no</td>\n",
              "      <td>no</td>\n",
              "      <td>cellular</td>\n",
              "      <td>jun</td>\n",
              "      <td>tue</td>\n",
              "      <td>368</td>\n",
              "      <td>2</td>\n",
              "      <td>0</td>\n",
              "      <td>nonexistent</td>\n",
              "      <td>no</td>\n",
              "    </tr>\n",
              "  </tbody>\n",
              "</table>\n",
              "</div>\n",
              "      <button class=\"colab-df-convert\" onclick=\"convertToInteractive('df-5a0086c4-149a-4df1-85e6-ca876173c063')\"\n",
              "              title=\"Convert this dataframe to an interactive table.\"\n",
              "              style=\"display:none;\">\n",
              "        \n",
              "  <svg xmlns=\"http://www.w3.org/2000/svg\" height=\"24px\"viewBox=\"0 0 24 24\"\n",
              "       width=\"24px\">\n",
              "    <path d=\"M0 0h24v24H0V0z\" fill=\"none\"/>\n",
              "    <path d=\"M18.56 5.44l.94 2.06.94-2.06 2.06-.94-2.06-.94-.94-2.06-.94 2.06-2.06.94zm-11 1L8.5 8.5l.94-2.06 2.06-.94-2.06-.94L8.5 2.5l-.94 2.06-2.06.94zm10 10l.94 2.06.94-2.06 2.06-.94-2.06-.94-.94-2.06-.94 2.06-2.06.94z\"/><path d=\"M17.41 7.96l-1.37-1.37c-.4-.4-.92-.59-1.43-.59-.52 0-1.04.2-1.43.59L10.3 9.45l-7.72 7.72c-.78.78-.78 2.05 0 2.83L4 21.41c.39.39.9.59 1.41.59.51 0 1.02-.2 1.41-.59l7.78-7.78 2.81-2.81c.8-.78.8-2.07 0-2.86zM5.41 20L4 18.59l7.72-7.72 1.47 1.35L5.41 20z\"/>\n",
              "  </svg>\n",
              "      </button>\n",
              "      \n",
              "  <style>\n",
              "    .colab-df-container {\n",
              "      display:flex;\n",
              "      flex-wrap:wrap;\n",
              "      gap: 12px;\n",
              "    }\n",
              "\n",
              "    .colab-df-convert {\n",
              "      background-color: #E8F0FE;\n",
              "      border: none;\n",
              "      border-radius: 50%;\n",
              "      cursor: pointer;\n",
              "      display: none;\n",
              "      fill: #1967D2;\n",
              "      height: 32px;\n",
              "      padding: 0 0 0 0;\n",
              "      width: 32px;\n",
              "    }\n",
              "\n",
              "    .colab-df-convert:hover {\n",
              "      background-color: #E2EBFA;\n",
              "      box-shadow: 0px 1px 2px rgba(60, 64, 67, 0.3), 0px 1px 3px 1px rgba(60, 64, 67, 0.15);\n",
              "      fill: #174EA6;\n",
              "    }\n",
              "\n",
              "    [theme=dark] .colab-df-convert {\n",
              "      background-color: #3B4455;\n",
              "      fill: #D2E3FC;\n",
              "    }\n",
              "\n",
              "    [theme=dark] .colab-df-convert:hover {\n",
              "      background-color: #434B5C;\n",
              "      box-shadow: 0px 1px 3px 1px rgba(0, 0, 0, 0.15);\n",
              "      filter: drop-shadow(0px 1px 2px rgba(0, 0, 0, 0.3));\n",
              "      fill: #FFFFFF;\n",
              "    }\n",
              "  </style>\n",
              "\n",
              "      <script>\n",
              "        const buttonEl =\n",
              "          document.querySelector('#df-5a0086c4-149a-4df1-85e6-ca876173c063 button.colab-df-convert');\n",
              "        buttonEl.style.display =\n",
              "          google.colab.kernel.accessAllowed ? 'block' : 'none';\n",
              "\n",
              "        async function convertToInteractive(key) {\n",
              "          const element = document.querySelector('#df-5a0086c4-149a-4df1-85e6-ca876173c063');\n",
              "          const dataTable =\n",
              "            await google.colab.kernel.invokeFunction('convertToInteractive',\n",
              "                                                     [key], {});\n",
              "          if (!dataTable) return;\n",
              "\n",
              "          const docLinkHtml = 'Like what you see? Visit the ' +\n",
              "            '<a target=\"_blank\" href=https://colab.research.google.com/notebooks/data_table.ipynb>data table notebook</a>'\n",
              "            + ' to learn more about interactive tables.';\n",
              "          element.innerHTML = '';\n",
              "          dataTable['output_type'] = 'display_data';\n",
              "          await google.colab.output.renderOutput(dataTable, element);\n",
              "          const docLink = document.createElement('div');\n",
              "          docLink.innerHTML = docLinkHtml;\n",
              "          element.appendChild(docLink);\n",
              "        }\n",
              "      </script>\n",
              "    </div>\n",
              "  </div>\n",
              "  "
            ],
            "text/plain": [
              "   age           job   marital          education  default housing loan  \\\n",
              "0   49   blue-collar   married           basic.9y  unknown      no   no   \n",
              "1   37  entrepreneur   married  university.degree       no      no   no   \n",
              "2   78       retired   married           basic.4y       no      no   no   \n",
              "3   36        admin.   married  university.degree       no     yes   no   \n",
              "4   59       retired  divorced  university.degree       no      no   no   \n",
              "\n",
              "     contact month day_of_week  duration  campaign  previous     poutcome    y  \n",
              "0   cellular   nov         wed       227         4         0  nonexistent   no  \n",
              "1  telephone   nov         wed       202         2         1      failure   no  \n",
              "2   cellular   jul         mon      1148         1         0  nonexistent  yes  \n",
              "3  telephone   may         mon       120         2         0  nonexistent   no  \n",
              "4   cellular   jun         tue       368         2         0  nonexistent   no  "
            ]
          },
          "metadata": {},
          "execution_count": 4
        }
      ],
      "source": [
        "train.head()"
      ]
    },
    {
      "cell_type": "markdown",
      "id": "73bc4852",
      "metadata": {
        "id": "73bc4852"
      },
      "source": [
        "### Sanity Checks"
      ]
    },
    {
      "cell_type": "code",
      "execution_count": null,
      "id": "378afca9",
      "metadata": {
        "id": "378afca9",
        "colab": {
          "base_uri": "https://localhost:8080/"
        },
        "outputId": "315a3dfc-4b20-4353-b14c-1db3fd8935a7"
      },
      "outputs": [
        {
          "output_type": "stream",
          "name": "stdout",
          "text": [
            "Actual Shape: (32910, 15)\n",
            "Distinct Shape: (32902, 15)\n"
          ]
        }
      ],
      "source": [
        "print(\"Actual Shape:\",train.shape)\n",
        "train = train.drop_duplicates()\n",
        "print(\"Distinct Shape:\",train.shape)"
      ]
    },
    {
      "cell_type": "code",
      "execution_count": null,
      "id": "0f6a4d65",
      "metadata": {
        "id": "0f6a4d65",
        "colab": {
          "base_uri": "https://localhost:8080/"
        },
        "outputId": "f02ba586-0eb7-41f4-f5a4-93881a9e7ef5"
      },
      "outputs": [
        {
          "output_type": "execute_result",
          "data": {
            "text/plain": [
              "age            0\n",
              "job            0\n",
              "marital        0\n",
              "education      0\n",
              "default        0\n",
              "housing        0\n",
              "loan           0\n",
              "contact        0\n",
              "month          0\n",
              "day_of_week    0\n",
              "duration       0\n",
              "campaign       0\n",
              "previous       0\n",
              "poutcome       0\n",
              "y              0\n",
              "dtype: int64"
            ]
          },
          "metadata": {},
          "execution_count": 6
        }
      ],
      "source": [
        "train.isna().sum(axis = 0)"
      ]
    },
    {
      "cell_type": "markdown",
      "id": "64fef3f4",
      "metadata": {
        "id": "64fef3f4"
      },
      "source": [
        "## Target Variable"
      ]
    },
    {
      "cell_type": "code",
      "execution_count": null,
      "id": "c1850fd1",
      "metadata": {
        "id": "c1850fd1",
        "colab": {
          "base_uri": "https://localhost:8080/",
          "height": 273
        },
        "outputId": "6cff5997-d4c3-4c1f-a320-f88f17720dec"
      },
      "outputs": [
        {
          "output_type": "display_data",
          "data": {
            "image/png": "[encoded data removed]",
            "text/plain": [
              "<Figure size 432x288 with 1 Axes>"
            ]
          },
          "metadata": {
            "needs_background": "light"
          }
        }
      ],
      "source": [
        "train['y'].value_counts()\n",
        "train['y'].value_counts().plot(kind='bar');"
      ]
    },
    {
      "cell_type": "code",
      "execution_count": null,
      "id": "b5bf7026",
      "metadata": {
        "id": "b5bf7026"
      },
      "outputs": [],
      "source": [
        "train = train.replace({'y': {'yes': 1, \n",
        "                                'no': 0}})\n"
      ]
    },
    {
      "cell_type": "markdown",
      "id": "12c45bfa",
      "metadata": {
        "id": "12c45bfa"
      },
      "source": [
        "## Numerical Features"
      ]
    },
    {
      "cell_type": "markdown",
      "id": "c1b34b34",
      "metadata": {
        "id": "c1b34b34"
      },
      "source": [
        "### Age"
      ]
    },
    {
      "cell_type": "code",
      "execution_count": null,
      "id": "d841211f",
      "metadata": {
        "id": "d841211f",
        "colab": {
          "base_uri": "https://localhost:8080/"
        },
        "outputId": "2696806a-3da1-4187-a585-fc4dcc218773"
      },
      "outputs": [
        {
          "output_type": "execute_result",
          "data": {
            "text/plain": [
              "count    32902.000000\n",
              "mean        40.012796\n",
              "std         10.402346\n",
              "min         17.000000\n",
              "25%         32.000000\n",
              "50%         38.000000\n",
              "75%         47.000000\n",
              "max         98.000000\n",
              "Name: age, dtype: float64"
            ]
          },
          "metadata": {},
          "execution_count": 9
        }
      ],
      "source": [
        "train['age'].describe()"
      ]
    },
    {
      "cell_type": "code",
      "execution_count": null,
      "id": "0d7bcb26",
      "metadata": {
        "id": "0d7bcb26",
        "colab": {
          "base_uri": "https://localhost:8080/",
          "height": 280
        },
        "outputId": "e4bc9113-474a-48d7-8ecb-b73bf5d8a40e"
      },
      "outputs": [
        {
          "output_type": "display_data",
          "data": {
            "image/png": "[encoded data removed]",
            "text/plain": [
              "<Figure size 432x288 with 1 Axes>"
            ]
          },
          "metadata": {
            "needs_background": "light"
          }
        }
      ],
      "source": [
        "sns.histplot(train['age']);"
      ]
    },
    {
      "cell_type": "code",
      "execution_count": null,
      "id": "324f8aa9",
      "metadata": {
        "id": "324f8aa9",
        "colab": {
          "base_uri": "https://localhost:8080/"
        },
        "outputId": "8894445a-0eee-447f-fffd-cecb69576ac3"
      },
      "outputs": [
        {
          "output_type": "execute_result",
          "data": {
            "text/plain": [
              "0.00    17.00\n",
              "0.50    38.00\n",
              "0.90    55.00\n",
              "0.95    58.00\n",
              "0.99    70.99\n",
              "Name: age, dtype: float64"
            ]
          },
          "metadata": {},
          "execution_count": 11
        }
      ],
      "source": [
        "train['age'].quantile([0.0, .5, .90, .95,.99])"
      ]
    },
    {
      "cell_type": "markdown",
      "id": "69776fa4",
      "metadata": {
        "id": "69776fa4"
      },
      "source": [
        "From the above data and histogram , the age distribution looks normal with a long tail. The 99th percentile is just 71 years indicating very few data points with age above 70. Also in the below plot(Age Vs Average subscription),the subscription percentage has clear pattern till 70 years and then saturates at the age of 70. Hence outliers can be capped at 70 years to enable to the model to learn efficiently."
      ]
    },
    {
      "cell_type": "code",
      "execution_count": null,
      "id": "4903a8ff",
      "metadata": {
        "id": "4903a8ff",
        "colab": {
          "base_uri": "https://localhost:8080/",
          "height": 279
        },
        "outputId": "6805acfe-0813-4063-fb38-43d1e1aec764"
      },
      "outputs": [
        {
          "output_type": "display_data",
          "data": {
            "image/png": "[encoded data removed]",
            "text/plain": [
              "<Figure size 432x288 with 1 Axes>"
            ]
          },
          "metadata": {
            "needs_background": "light"
          }
        }
      ],
      "source": [
        "age_df = train.groupby('age')['y'].mean()\n",
        "sns.scatterplot(x=age_df.index,y=age_df.values);"
      ]
    },
    {
      "cell_type": "markdown",
      "id": "3233e3b8",
      "metadata": {
        "id": "3233e3b8"
      },
      "source": [
        "The below code caps the age at 70 for the outlier records and replots the relation with the subscription percentage"
      ]
    },
    {
      "cell_type": "code",
      "execution_count": null,
      "id": "47cc3501",
      "metadata": {
        "id": "47cc3501"
      },
      "outputs": [],
      "source": [
        "train[\"age\"] = np.where(train[\"age\"] > train['age'].quantile(.99), train['age'].quantile(.99), train['age'])"
      ]
    },
    {
      "cell_type": "code",
      "execution_count": null,
      "id": "309f7db9",
      "metadata": {
        "id": "309f7db9",
        "colab": {
          "base_uri": "https://localhost:8080/",
          "height": 279
        },
        "outputId": "edc9f020-8046-49e6-935e-bb81636d4f4b"
      },
      "outputs": [
        {
          "output_type": "display_data",
          "data": {
            "image/png": "[encoded data removed]",
            "text/plain": [
              "<Figure size 432x288 with 1 Axes>"
            ]
          },
          "metadata": {
            "needs_background": "light"
          }
        }
      ],
      "source": [
        "agg_df = train.groupby('age')['y'].mean()\n",
        "sns.scatterplot(x=agg_df.index,y=agg_df.values);"
      ]
    },
    {
      "cell_type": "markdown",
      "id": "afb23ac4",
      "metadata": {
        "id": "afb23ac4"
      },
      "source": [
        "### Duration"
      ]
    },
    {
      "cell_type": "code",
      "execution_count": null,
      "id": "9a4eaa78",
      "metadata": {
        "id": "9a4eaa78",
        "colab": {
          "base_uri": "https://localhost:8080/"
        },
        "outputId": "ed136b31-5fa3-44f0-fe8a-2c808dfe590d"
      },
      "outputs": [
        {
          "output_type": "execute_result",
          "data": {
            "text/plain": [
              "count    32902.000000\n",
              "mean       258.196523\n",
              "std        259.089636\n",
              "min          0.000000\n",
              "25%        103.000000\n",
              "50%        180.000000\n",
              "75%        319.000000\n",
              "max       4918.000000\n",
              "Name: duration, dtype: float64"
            ]
          },
          "metadata": {},
          "execution_count": 15
        }
      ],
      "source": [
        "train['duration'].describe()"
      ]
    },
    {
      "cell_type": "code",
      "execution_count": null,
      "id": "e178f76a",
      "metadata": {
        "id": "e178f76a",
        "colab": {
          "base_uri": "https://localhost:8080/",
          "height": 297
        },
        "outputId": "92344180-b2dc-4c3c-8180-3c85ec253302"
      },
      "outputs": [
        {
          "output_type": "execute_result",
          "data": {
            "text/plain": [
              "<matplotlib.axes._subplots.AxesSubplot at 0x7f8a3ac6c2d0>"
            ]
          },
          "metadata": {},
          "execution_count": 16
        },
        {
          "output_type": "display_data",
          "data": {
            "image/png": "[encoded data removed]",
            "text/plain": [
              "<Figure size 432x288 with 1 Axes>"
            ]
          },
          "metadata": {
            "needs_background": "light"
          }
        }
      ],
      "source": [
        "sns.histplot(train['duration'])"
      ]
    },
    {
      "cell_type": "code",
      "execution_count": null,
      "id": "317584f7",
      "metadata": {
        "id": "317584f7",
        "colab": {
          "base_uri": "https://localhost:8080/"
        },
        "outputId": "de581a95-8920-490e-efdc-8997dbd3c634"
      },
      "outputs": [
        {
          "output_type": "execute_result",
          "data": {
            "text/plain": [
              "0.00       0.00\n",
              "0.50     180.00\n",
              "0.90     550.00\n",
              "0.95     750.00\n",
              "0.99    1259.99\n",
              "Name: duration, dtype: float64"
            ]
          },
          "metadata": {},
          "execution_count": 17
        }
      ],
      "source": [
        "train['duration'].quantile([0.0, .5, .90, .95,.99])"
      ]
    },
    {
      "cell_type": "markdown",
      "id": "b77ed0b8",
      "metadata": {
        "id": "b77ed0b8"
      },
      "source": [
        "The duration has very long tail and from the below subscription plot, there is no significant pattern above the 99th percentile(~ 1260). Hence capping the the outlier can be an effective straategy her as well."
      ]
    },
    {
      "cell_type": "code",
      "execution_count": null,
      "id": "ca536adc",
      "metadata": {
        "id": "ca536adc",
        "colab": {
          "base_uri": "https://localhost:8080/",
          "height": 279
        },
        "outputId": "8a864611-3c34-44c1-ea56-331046ada123"
      },
      "outputs": [
        {
          "output_type": "display_data",
          "data": {
            "image/png": "[encoded data removed]",
            "text/plain": [
              "<Figure size 432x288 with 1 Axes>"
            ]
          },
          "metadata": {
            "needs_background": "light"
          }
        }
      ],
      "source": [
        "duration_df = train.groupby('duration')['y'].mean()\n",
        "sns.scatterplot(x=duration_df.index,y=duration_df.values);"
      ]
    },
    {
      "cell_type": "code",
      "execution_count": null,
      "id": "e1210952",
      "metadata": {
        "id": "e1210952"
      },
      "outputs": [],
      "source": [
        "train[\"duration\"] = np.where(train[\"duration\"] > train['duration'].quantile(.99), train['duration'].quantile(.99), train['duration'])"
      ]
    },
    {
      "cell_type": "code",
      "execution_count": null,
      "id": "76bfb017",
      "metadata": {
        "id": "76bfb017",
        "colab": {
          "base_uri": "https://localhost:8080/",
          "height": 279
        },
        "outputId": "f0fb0572-4be0-4f3e-dc57-9655eb688a69"
      },
      "outputs": [
        {
          "output_type": "display_data",
          "data": {
            "image/png": "[encoded data removed]",
            "text/plain": [
              "<Figure size 432x288 with 1 Axes>"
            ]
          },
          "metadata": {
            "needs_background": "light"
          }
        }
      ],
      "source": [
        "duration_df = train.groupby('duration')['y'].mean()\n",
        "sns.scatterplot(x=duration_df.index,y=duration_df.values);"
      ]
    },
    {
      "cell_type": "markdown",
      "id": "b08b5246",
      "metadata": {
        "id": "b08b5246"
      },
      "source": [
        "Another striking aspect in the above chart is when the duration is very less( < 50), the subscription is almost nill"
      ]
    },
    {
      "cell_type": "markdown",
      "id": "bb138794",
      "metadata": {
        "id": "bb138794"
      },
      "source": [
        "### Campaign"
      ]
    },
    {
      "cell_type": "code",
      "execution_count": null,
      "id": "e807fb83",
      "metadata": {
        "id": "e807fb83",
        "colab": {
          "base_uri": "https://localhost:8080/"
        },
        "outputId": "02b8948a-a630-4372-be6a-c52e0bddba92"
      },
      "outputs": [
        {
          "output_type": "execute_result",
          "data": {
            "text/plain": [
              "count    32902.000000\n",
              "mean         2.560817\n",
              "std          2.753590\n",
              "min          1.000000\n",
              "25%          1.000000\n",
              "50%          2.000000\n",
              "75%          3.000000\n",
              "max         56.000000\n",
              "Name: campaign, dtype: float64"
            ]
          },
          "metadata": {},
          "execution_count": 21
        }
      ],
      "source": [
        "train['campaign'].describe()"
      ]
    },
    {
      "cell_type": "code",
      "execution_count": null,
      "id": "3558e6ea",
      "metadata": {
        "id": "3558e6ea",
        "colab": {
          "base_uri": "https://localhost:8080/",
          "height": 279
        },
        "outputId": "58a31f6d-b249-49da-ae78-df052215c2b6"
      },
      "outputs": [
        {
          "output_type": "display_data",
          "data": {
            "image/png": "[encoded data removed]",
            "text/plain": [
              "<Figure size 432x288 with 1 Axes>"
            ]
          },
          "metadata": {
            "needs_background": "light"
          }
        }
      ],
      "source": [
        "sns.histplot(train['campaign']);"
      ]
    },
    {
      "cell_type": "code",
      "execution_count": null,
      "id": "4948e37f",
      "metadata": {
        "id": "4948e37f",
        "colab": {
          "base_uri": "https://localhost:8080/"
        },
        "outputId": "fb2d7b17-5174-4e3a-8a09-9e81bd189cdd"
      },
      "outputs": [
        {
          "output_type": "execute_result",
          "data": {
            "text/plain": [
              "0.00     1.0\n",
              "0.50     2.0\n",
              "0.90     5.0\n",
              "0.95     7.0\n",
              "0.99    14.0\n",
              "Name: campaign, dtype: float64"
            ]
          },
          "metadata": {},
          "execution_count": 23
        }
      ],
      "source": [
        "train['campaign'].quantile([0.0, .5, .90, .95,.99])"
      ]
    },
    {
      "cell_type": "markdown",
      "id": "763b40be",
      "metadata": {
        "id": "763b40be"
      },
      "source": [
        "Campaign is another very long-tail distribution and there is absolutely to pattern above the 99th percentile"
      ]
    },
    {
      "cell_type": "code",
      "execution_count": null,
      "id": "cd904ddf",
      "metadata": {
        "id": "cd904ddf",
        "colab": {
          "base_uri": "https://localhost:8080/",
          "height": 279
        },
        "outputId": "7cda6fc5-9398-4d49-80c7-2029200bbb15"
      },
      "outputs": [
        {
          "output_type": "display_data",
          "data": {
            "image/png": "[encoded data removed]",
            "text/plain": [
              "<Figure size 432x288 with 1 Axes>"
            ]
          },
          "metadata": {
            "needs_background": "light"
          }
        }
      ],
      "source": [
        "campaign_df = train.groupby('campaign')['y'].mean()\n",
        "sns.scatterplot(x=campaign_df.index,y=campaign_df.values);"
      ]
    },
    {
      "cell_type": "code",
      "execution_count": null,
      "id": "e0324467",
      "metadata": {
        "id": "e0324467"
      },
      "outputs": [],
      "source": [
        "train[\"campaign\"] = np.where(train[\"campaign\"] > train['campaign'].quantile(.99), train['campaign'].quantile(.99), train['campaign'])"
      ]
    },
    {
      "cell_type": "code",
      "execution_count": null,
      "id": "9e00a5ec",
      "metadata": {
        "id": "9e00a5ec",
        "colab": {
          "base_uri": "https://localhost:8080/",
          "height": 279
        },
        "outputId": "53540e2b-b2e7-426c-c240-06615506e887"
      },
      "outputs": [
        {
          "output_type": "display_data",
          "data": {
            "image/png": "[encoded data removed]",
            "text/plain": [
              "<Figure size 432x288 with 1 Axes>"
            ]
          },
          "metadata": {
            "needs_background": "light"
          }
        }
      ],
      "source": [
        "campaign_df = train.groupby('campaign')['y'].mean()\n",
        "sns.scatterplot(x=campaign_df.index,y=campaign_df.values);"
      ]
    },
    {
      "cell_type": "markdown",
      "id": "360dfc25",
      "metadata": {
        "id": "360dfc25"
      },
      "source": [
        "The pattern looks very clear after capping the outliers"
      ]
    },
    {
      "cell_type": "markdown",
      "id": "ea0d9aae",
      "metadata": {
        "id": "ea0d9aae"
      },
      "source": [
        "### Previous"
      ]
    },
    {
      "cell_type": "code",
      "execution_count": null,
      "id": "8a24f0b8",
      "metadata": {
        "id": "8a24f0b8",
        "colab": {
          "base_uri": "https://localhost:8080/"
        },
        "outputId": "f161363d-d423-470a-895e-be266fd5737c"
      },
      "outputs": [
        {
          "output_type": "execute_result",
          "data": {
            "text/plain": [
              "count    32902.000000\n",
              "mean         0.174853\n",
              "std          0.499265\n",
              "min          0.000000\n",
              "25%          0.000000\n",
              "50%          0.000000\n",
              "75%          0.000000\n",
              "max          7.000000\n",
              "Name: previous, dtype: float64"
            ]
          },
          "metadata": {},
          "execution_count": 27
        }
      ],
      "source": [
        "train['previous'].describe()"
      ]
    },
    {
      "cell_type": "code",
      "execution_count": null,
      "id": "5d79fb6d",
      "metadata": {
        "id": "5d79fb6d",
        "colab": {
          "base_uri": "https://localhost:8080/",
          "height": 279
        },
        "outputId": "525b4be4-ef3b-446d-b0fb-4176c27a58be"
      },
      "outputs": [
        {
          "output_type": "display_data",
          "data": {
            "image/png": "[encoded data removed]",
            "text/plain": [
              "<Figure size 432x288 with 1 Axes>"
            ]
          },
          "metadata": {
            "needs_background": "light"
          }
        }
      ],
      "source": [
        "sns.histplot(train['previous']);"
      ]
    },
    {
      "cell_type": "code",
      "execution_count": null,
      "id": "5e5ed671",
      "metadata": {
        "id": "5e5ed671",
        "colab": {
          "base_uri": "https://localhost:8080/",
          "height": 279
        },
        "outputId": "d6236042-e932-4550-9632-2bde0a370eed"
      },
      "outputs": [
        {
          "output_type": "display_data",
          "data": {
            "image/png": "[encoded data removed]",
            "text/plain": [
              "<Figure size 432x288 with 1 Axes>"
            ]
          },
          "metadata": {
            "needs_background": "light"
          }
        }
      ],
      "source": [
        "previous_df = train.groupby('previous')['y'].mean()\n",
        "sns.scatterplot(x=previous_df.index,y=previous_df.values);"
      ]
    },
    {
      "cell_type": "code",
      "execution_count": null,
      "id": "7edacf53",
      "metadata": {
        "id": "7edacf53",
        "colab": {
          "base_uri": "https://localhost:8080/"
        },
        "outputId": "4cdd3c05-637b-4f98-afb2-c407ddd39aba"
      },
      "outputs": [
        {
          "output_type": "execute_result",
          "data": {
            "text/plain": [
              "0.00    0.0\n",
              "0.50    0.0\n",
              "0.90    1.0\n",
              "0.95    1.0\n",
              "0.99    2.0\n",
              "Name: previous, dtype: float64"
            ]
          },
          "metadata": {},
          "execution_count": 30
        }
      ],
      "source": [
        "train['previous'].quantile([0.0, .5, .90, .95,.99])"
      ]
    },
    {
      "cell_type": "markdown",
      "id": "1dfedaaa",
      "metadata": {
        "id": "1dfedaaa"
      },
      "source": [
        "Although the previous also has a long tail, the saturation does not happen at 99th percentile but at 99.5th percentile."
      ]
    },
    {
      "cell_type": "code",
      "execution_count": null,
      "id": "b26e2268",
      "metadata": {
        "id": "b26e2268",
        "colab": {
          "base_uri": "https://localhost:8080/"
        },
        "outputId": "66567b73-7d53-4853-f380-89c58de14f16"
      },
      "outputs": [
        {
          "output_type": "execute_result",
          "data": {
            "text/plain": [
              "0    28372\n",
              "1     3669\n",
              "2      606\n",
              "3      175\n",
              "4       60\n",
              "5       14\n",
              "6        5\n",
              "7        1\n",
              "Name: previous, dtype: int64"
            ]
          },
          "metadata": {},
          "execution_count": 31
        }
      ],
      "source": [
        "train['previous'].value_counts()"
      ]
    },
    {
      "cell_type": "code",
      "execution_count": null,
      "id": "65c71b17",
      "metadata": {
        "id": "65c71b17",
        "colab": {
          "base_uri": "https://localhost:8080/"
        },
        "outputId": "736bd3c0-84b3-4714-c989-774c8ed64913"
      },
      "outputs": [
        {
          "output_type": "execute_result",
          "data": {
            "text/plain": [
              "0.000    0.0\n",
              "0.500    0.0\n",
              "0.900    1.0\n",
              "0.950    1.0\n",
              "0.990    2.0\n",
              "0.995    3.0\n",
              "Name: previous, dtype: float64"
            ]
          },
          "metadata": {},
          "execution_count": 32
        }
      ],
      "source": [
        "train['previous'].quantile([0.0, .5, .90, .95,.99,.995])"
      ]
    },
    {
      "cell_type": "code",
      "execution_count": null,
      "id": "313cf6da",
      "metadata": {
        "id": "313cf6da"
      },
      "outputs": [],
      "source": [
        "train[\"previous\"] = np.where(train[\"previous\"] > train['previous'].quantile(.995), train['previous'].quantile(.995), train['previous'])"
      ]
    },
    {
      "cell_type": "code",
      "execution_count": null,
      "id": "489be5e2",
      "metadata": {
        "id": "489be5e2",
        "colab": {
          "base_uri": "https://localhost:8080/",
          "height": 279
        },
        "outputId": "11614646-f6a5-4bf9-881c-912cb87f884a"
      },
      "outputs": [
        {
          "output_type": "display_data",
          "data": {
            "image/png": "[encoded data removed]",
            "text/plain": [
              "<Figure size 432x288 with 1 Axes>"
            ]
          },
          "metadata": {
            "needs_background": "light"
          }
        }
      ],
      "source": [
        "previous_df = train.groupby('previous')['y'].mean()\n",
        "sns.scatterplot(x=previous_df.index,y=previous_df.values);"
      ]
    },
    {
      "cell_type": "markdown",
      "id": "6fe1e2f9",
      "metadata": {
        "id": "6fe1e2f9"
      },
      "source": [
        "## Categorical Features"
      ]
    },
    {
      "cell_type": "markdown",
      "id": "86dc99bd",
      "metadata": {
        "id": "86dc99bd"
      },
      "source": [
        "The common factor among most of the categorical features is 'unknown' class. However from the below analysis 'unknown' class has a distinct pattern on the subscription percentage hence it is better to retain as is."
      ]
    },
    {
      "cell_type": "code",
      "execution_count": null,
      "id": "7d029ced",
      "metadata": {
        "id": "7d029ced"
      },
      "outputs": [],
      "source": [
        "def plot_cat_columns(columnname):\n",
        "    print(train[columnname].value_counts())\n",
        "    agg_df = train.groupby(columnname)['y'].mean()\n",
        "    train[columnname].value_counts().plot(kind='bar');\n",
        "    plt.show();\n",
        "    agg_df.plot(kind='bar');\n",
        "    plt.show();"
      ]
    },
    {
      "cell_type": "code",
      "execution_count": null,
      "id": "5ee4b357",
      "metadata": {
        "id": "5ee4b357",
        "colab": {
          "base_uri": "https://localhost:8080/",
          "height": 688
        },
        "outputId": "709f6e9c-1cf6-4045-a9b5-aaf5c9b5d195"
      },
      "outputs": [
        {
          "output_type": "stream",
          "name": "stdout",
          "text": [
            "married     19923\n",
            "single       9244\n",
            "divorced     3670\n",
            "unknown        65\n",
            "Name: marital, dtype: int64\n"
          ]
        },
        {
          "output_type": "display_data",
          "data": {
            "image/png": "[encoded data removed]",
            "text/plain": [
              "<Figure size 432x288 with 1 Axes>"
            ]
          },
          "metadata": {
            "needs_background": "light"
          }
        },
        {
          "output_type": "display_data",
          "data": {
            "image/png": "[encoded data removed]",
            "text/plain": [
              "<Figure size 432x288 with 1 Axes>"
            ]
          },
          "metadata": {
            "needs_background": "light"
          }
        }
      ],
      "source": [
        "plot_cat_columns('marital')"
      ]
    },
    {
      "cell_type": "code",
      "execution_count": null,
      "id": "ae028fb0",
      "metadata": {
        "id": "ae028fb0",
        "colab": {
          "base_uri": "https://localhost:8080/",
          "height": 881
        },
        "outputId": "def39cb3-ff2e-42e9-a883-18b1f60bb3b5"
      },
      "outputs": [
        {
          "output_type": "stream",
          "name": "stdout",
          "text": [
            "admin.           8303\n",
            "blue-collar      7429\n",
            "technician       5390\n",
            "services         3191\n",
            "management       2343\n",
            "retired          1362\n",
            "entrepreneur     1159\n",
            "self-employed    1098\n",
            "housemaid         855\n",
            "unemployed        798\n",
            "student           710\n",
            "unknown           264\n",
            "Name: job, dtype: int64\n"
          ]
        },
        {
          "output_type": "display_data",
          "data": {
            "image/png": "[encoded data removed]",
            "text/plain": [
              "<Figure size 432x288 with 1 Axes>"
            ]
          },
          "metadata": {
            "needs_background": "light"
          }
        },
        {
          "output_type": "display_data",
          "data": {
            "image/png": "[encoded data removed]",
            "text/plain": [
              "<Figure size 432x288 with 1 Axes>"
            ]
          },
          "metadata": {
            "needs_background": "light"
          }
        }
      ],
      "source": [
        "plot_cat_columns('job')"
      ]
    },
    {
      "cell_type": "code",
      "execution_count": null,
      "id": "1843e667",
      "metadata": {
        "id": "1843e667",
        "colab": {
          "base_uri": "https://localhost:8080/",
          "height": 863
        },
        "outputId": "b6b76bc5-3291-4e7e-fb9e-35a7edf671df"
      },
      "outputs": [
        {
          "output_type": "stream",
          "name": "stdout",
          "text": [
            "university.degree      9724\n",
            "high.school            7583\n",
            "basic.9y               4818\n",
            "professional.course    4183\n",
            "basic.4y               3322\n",
            "basic.6y               1862\n",
            "unknown                1394\n",
            "illiterate               16\n",
            "Name: education, dtype: int64\n"
          ]
        },
        {
          "output_type": "display_data",
          "data": {
            "image/png": "[encoded data removed]",
            "text/plain": [
              "<Figure size 432x288 with 1 Axes>"
            ]
          },
          "metadata": {
            "needs_background": "light"
          }
        },
        {
          "output_type": "display_data",
          "data": {
            "image/png": "[encoded data removed]",
            "text/plain": [
              "<Figure size 432x288 with 1 Axes>"
            ]
          },
          "metadata": {
            "needs_background": "light"
          }
        }
      ],
      "source": [
        "plot_cat_columns('education')"
      ]
    },
    {
      "cell_type": "code",
      "execution_count": null,
      "id": "4e7a6e7e",
      "metadata": {
        "id": "4e7a6e7e",
        "colab": {
          "base_uri": "https://localhost:8080/",
          "height": 670
        },
        "outputId": "27835426-e95e-4279-ae28-441823256a28"
      },
      "outputs": [
        {
          "output_type": "stream",
          "name": "stdout",
          "text": [
            "no         25968\n",
            "unknown     6931\n",
            "yes            3\n",
            "Name: default, dtype: int64\n"
          ]
        },
        {
          "output_type": "display_data",
          "data": {
            "image/png": "[encoded data removed]",
            "text/plain": [
              "<Figure size 432x288 with 1 Axes>"
            ]
          },
          "metadata": {
            "needs_background": "light"
          }
        },
        {
          "output_type": "display_data",
          "data": {
            "image/png": "[encoded data removed]",
            "text/plain": [
              "<Figure size 432x288 with 1 Axes>"
            ]
          },
          "metadata": {
            "needs_background": "light"
          }
        }
      ],
      "source": [
        "plot_cat_columns('default')"
      ]
    },
    {
      "cell_type": "code",
      "execution_count": null,
      "id": "a482068d",
      "metadata": {
        "id": "a482068d",
        "colab": {
          "base_uri": "https://localhost:8080/",
          "height": 671
        },
        "outputId": "6e421d01-2b14-407b-e807-90ca14c2d501"
      },
      "outputs": [
        {
          "output_type": "stream",
          "name": "stdout",
          "text": [
            "yes        17233\n",
            "no         14874\n",
            "unknown      795\n",
            "Name: housing, dtype: int64\n"
          ]
        },
        {
          "output_type": "display_data",
          "data": {
            "image/png": "[encoded data removed]",
            "text/plain": [
              "<Figure size 432x288 with 1 Axes>"
            ]
          },
          "metadata": {
            "needs_background": "light"
          }
        },
        {
          "output_type": "display_data",
          "data": {
            "image/png": "[encoded data removed]",
            "text/plain": [
              "<Figure size 432x288 with 1 Axes>"
            ]
          },
          "metadata": {
            "needs_background": "light"
          }
        }
      ],
      "source": [
        "plot_cat_columns('housing')"
      ]
    },
    {
      "cell_type": "code",
      "execution_count": null,
      "id": "a760c852",
      "metadata": {
        "id": "a760c852",
        "colab": {
          "base_uri": "https://localhost:8080/",
          "height": 670
        },
        "outputId": "cd0a92fa-526b-459c-fdb0-323bf89216e2"
      },
      "outputs": [
        {
          "output_type": "stream",
          "name": "stdout",
          "text": [
            "no         27091\n",
            "yes         5016\n",
            "unknown      795\n",
            "Name: loan, dtype: int64\n"
          ]
        },
        {
          "output_type": "display_data",
          "data": {
            "image/png": "[encoded data removed]",
            "text/plain": [
              "<Figure size 432x288 with 1 Axes>"
            ]
          },
          "metadata": {
            "needs_background": "light"
          }
        },
        {
          "output_type": "display_data",
          "data": {
            "image/png": "[encoded data removed]",
            "text/plain": [
              "<Figure size 432x288 with 1 Axes>"
            ]
          },
          "metadata": {
            "needs_background": "light"
          }
        }
      ],
      "source": [
        "plot_cat_columns('loan')"
      ]
    },
    {
      "cell_type": "code",
      "execution_count": null,
      "id": "01ef8532",
      "metadata": {
        "id": "01ef8532",
        "colab": {
          "base_uri": "https://localhost:8080/",
          "height": 660
        },
        "outputId": "9dbc0d4f-5efe-45e8-9f72-06e0c221e1b0"
      },
      "outputs": [
        {
          "output_type": "stream",
          "name": "stdout",
          "text": [
            "cellular     20885\n",
            "telephone    12017\n",
            "Name: contact, dtype: int64\n"
          ]
        },
        {
          "output_type": "display_data",
          "data": {
            "image/png": "[encoded data removed]",
            "text/plain": [
              "<Figure size 432x288 with 1 Axes>"
            ]
          },
          "metadata": {
            "needs_background": "light"
          }
        },
        {
          "output_type": "display_data",
          "data": {
            "image/png": "[encoded data removed]",
            "text/plain": [
              "<Figure size 432x288 with 1 Axes>"
            ]
          },
          "metadata": {
            "needs_background": "light"
          }
        }
      ],
      "source": [
        "plot_cat_columns('contact')"
      ]
    },
    {
      "cell_type": "code",
      "execution_count": null,
      "id": "ffd32cb0",
      "metadata": {
        "id": "ffd32cb0",
        "colab": {
          "base_uri": "https://localhost:8080/",
          "height": 747
        },
        "outputId": "f032de04-4e08-4c40-a81c-defbb55c2d28"
      },
      "outputs": [
        {
          "output_type": "stream",
          "name": "stdout",
          "text": [
            "may    10991\n",
            "jul     5751\n",
            "aug     4944\n",
            "jun     4242\n",
            "nov     3262\n",
            "apr     2083\n",
            "oct      586\n",
            "sep      464\n",
            "mar      436\n",
            "dec      143\n",
            "Name: month, dtype: int64\n"
          ]
        },
        {
          "output_type": "display_data",
          "data": {
            "image/png": "[encoded data removed]",
            "text/plain": [
              "<Figure size 432x288 with 1 Axes>"
            ]
          },
          "metadata": {
            "needs_background": "light"
          }
        },
        {
          "output_type": "display_data",
          "data": {
            "image/png": "[encoded data removed]",
            "text/plain": [
              "<Figure size 432x288 with 1 Axes>"
            ]
          },
          "metadata": {
            "needs_background": "light"
          }
        }
      ],
      "source": [
        "plot_cat_columns('month')"
      ]
    },
    {
      "cell_type": "code",
      "execution_count": null,
      "id": "d9100ebf",
      "metadata": {
        "id": "d9100ebf",
        "colab": {
          "base_uri": "https://localhost:8080/",
          "height": 659
        },
        "outputId": "6c76f740-83da-4e59-9d84-40d00e5433d0"
      },
      "outputs": [
        {
          "output_type": "stream",
          "name": "stdout",
          "text": [
            "thu    6846\n",
            "mon    6801\n",
            "wed    6508\n",
            "tue    6436\n",
            "fri    6311\n",
            "Name: day_of_week, dtype: int64\n"
          ]
        },
        {
          "output_type": "display_data",
          "data": {
            "image/png": "[encoded data removed]",
            "text/plain": [
              "<Figure size 432x288 with 1 Axes>"
            ]
          },
          "metadata": {
            "needs_background": "light"
          }
        },
        {
          "output_type": "display_data",
          "data": {
            "image/png": "[encoded data removed]",
            "text/plain": [
              "<Figure size 432x288 with 1 Axes>"
            ]
          },
          "metadata": {
            "needs_background": "light"
          }
        }
      ],
      "source": [
        "plot_cat_columns('day_of_week')"
      ]
    },
    {
      "cell_type": "code",
      "execution_count": null,
      "id": "370eec3a",
      "metadata": {
        "id": "370eec3a",
        "colab": {
          "base_uri": "https://localhost:8080/",
          "height": 696
        },
        "outputId": "f297b6d6-788f-41de-a08a-b213b0a5ff73"
      },
      "outputs": [
        {
          "output_type": "stream",
          "name": "stdout",
          "text": [
            "nonexistent    28372\n",
            "failure         3426\n",
            "success         1104\n",
            "Name: poutcome, dtype: int64\n"
          ]
        },
        {
          "output_type": "display_data",
          "data": {
            "image/png": "[encoded data removed]",
            "text/plain": [
              "<Figure size 432x288 with 1 Axes>"
            ]
          },
          "metadata": {
            "needs_background": "light"
          }
        },
        {
          "output_type": "display_data",
          "data": {
            "image/png": "[encoded data removed]",
            "text/plain": [
              "<Figure size 432x288 with 1 Axes>"
            ]
          },
          "metadata": {
            "needs_background": "light"
          }
        }
      ],
      "source": [
        "plot_cat_columns('poutcome')"
      ]
    },
    {
      "cell_type": "markdown",
      "id": "f4dc8da3",
      "metadata": {
        "id": "f4dc8da3"
      },
      "source": [
        "## Data Transformation code excluding EDA"
      ]
    },
    {
      "cell_type": "code",
      "execution_count": null,
      "id": "bd22357f",
      "metadata": {
        "id": "bd22357f"
      },
      "outputs": [],
      "source": [
        "import numpy as np\n",
        "import pandas as pd\n",
        "from matplotlib import pyplot as plt\n",
        "import seaborn as sns\n",
        "from sklearn.preprocessing import OneHotEncoder\n",
        "from sklearn.compose import make_column_transformer\n",
        "from sklearn.preprocessing import StandardScaler\n",
        "from sklearn.pipeline import make_pipeline\n",
        "\n",
        "# Read Input File\n",
        "train = pd.read_excel('https://github.com/rsdevanathan/Customer_Subscription/blob/main/train_file.xlsx?raw=true')\n",
        "\n",
        "# Remove Duplicates\n",
        "train = train.drop_duplicates()\n",
        "\n",
        "#Encode Target Variable\n",
        "train = train.replace({'y': {'yes': 1, \n",
        "                                'no': 0}})\n",
        "# Remove Numeric Features outliers based on the EDA\n",
        "train[\"age\"] = np.where(train[\"age\"] > 71, 71, train['age'])\n",
        "train[\"duration\"] = np.where(train[\"duration\"] > 1260, 1260, train['duration'])\n",
        "train[\"campaign\"] = np.where(train[\"campaign\"] > 14, 14, train['campaign'])\n",
        "train[\"previous\"] = np.where(train[\"previous\"] > 3, 3, train['previous'])\n",
        "\n",
        "# Column Transformers\n",
        "# Scaling for Numeric Columns\n",
        "# One Hot Encoding for Categoriccal Features\n",
        "numerical_features = ['age','duration', 'campaign', 'previous']\n",
        "categorical_features = [ 'job', 'marital', 'education', 'default', 'housing', 'loan', 'contact', 'month', 'day_of_week', 'poutcome']\n",
        "feature_transformer = make_column_transformer((StandardScaler(), numerical_features), (OneHotEncoder(), categorical_features),remainder='passthrough')\n",
        "feature_array = feature_transformer.fit_transform(train)\n",
        "feature_cols = list(feature_transformer.get_feature_names_out())\n",
        "feature_cols = [col.replace('standardscaler__', '').replace('onehotencoder__', '').replace('remainder__', '') for col in feature_cols]\n",
        "feature_data = pd.DataFrame.sparse.from_spmatrix(feature_array,columns=feature_cols)\n",
        "# Save Feature Data\n",
        "feature_data.to_csv('feature_data.csv')"
      ]
    },
    {
      "cell_type": "markdown",
      "source": [
        "End"
      ],
      "metadata": {
        "id": "wuao3LF_k35u"
      },
      "id": "wuao3LF_k35u"
    }
  ],
  "metadata": {
    "kernelspec": {
      "display_name": "Python 3",
      "language": "python",
      "name": "python3"
    },
    "language_info": {
      "codemirror_mode": {
        "name": "ipython",
        "version": 3
      },
      "file_extension": ".py",
      "mimetype": "text/x-python",
      "name": "python",
      "nbconvert_exporter": "python",
      "pygments_lexer": "ipython3",
      "version": "3.8.6"
    },
    "colab": {
      "name": "Customer_Subscription_EDA.ipynb",
      "provenance": [],
      "collapsed_sections": [
        "afb23ac4",
        "bb138794",
        "ea0d9aae"
      ]
    }
  },
  "nbformat": 4,
  "nbformat_minor": 5
}