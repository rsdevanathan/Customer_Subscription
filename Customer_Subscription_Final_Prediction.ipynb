{
 "cells": [
  {
   "cell_type": "markdown",
   "metadata": {
    "id": "Iyx2jCymEN69"
   },
   "source": [
    "## Import Packages"
   ]
  },
  {
   "cell_type": "code",
   "execution_count": 75,
   "metadata": {
    "id": "jc3BBiqI2j9P"
   },
   "outputs": [],
   "source": [
    "import numpy as np\n",
    "import pandas as pd\n",
    "from sklearn.preprocessing import OneHotEncoder\n",
    "from sklearn.compose import make_column_transformer\n",
    "from sklearn.preprocessing import StandardScaler\n",
    "from sklearn.pipeline import make_pipeline\n",
    "\n",
    "\n",
    "from sklearn.model_selection import StratifiedKFold\n",
    "from sklearn.model_selection import cross_val_score\n",
    "from sklearn.linear_model import LogisticRegression\n",
    "from sklearn.ensemble import RandomForestClassifier\n",
    "import keras \n",
    "from keras.wrappers.scikit_learn import KerasClassifier\n",
    "from keras.models import Sequential\n",
    "from keras.layers import Dense,Dropout\n",
    "from imblearn.over_sampling import SMOTE\n",
    "from statistics import mode\n",
    "\n",
    "import warnings\n",
    "warnings.filterwarnings('ignore')"
   ]
  },
  {
   "cell_type": "markdown",
   "metadata": {
    "id": "1ctBMHMBEZZk"
   },
   "source": [
    "## Feature Builder Utility"
   ]
  },
  {
   "cell_type": "code",
   "execution_count": 52,
   "metadata": {
    "id": "M6O-RVnT3674"
   },
   "outputs": [],
   "source": [
    "def feature_builder(inp_data):\n",
    "  # Remove Numeric Features outliers based on the EDA\n",
    "  inp_data[\"age\"] = np.where(inp_data[\"age\"] > 71, 71, inp_data['age'])\n",
    "  inp_data[\"duration\"] = np.where(inp_data[\"duration\"] > 1260, 1260, inp_data['duration'])\n",
    "  inp_data[\"campaign\"] = np.where(inp_data[\"campaign\"] > 14, 14, inp_data['campaign'])\n",
    "  inp_data[\"previous\"] = np.where(inp_data[\"previous\"] > 3, 3, inp_data['previous'])\n",
    "  # Column Transformers\n",
    "  # Scaling for Numeric Columns\n",
    "  # One Hot Encoding for Categoriccal Features\n",
    "  numerical_features = ['age','duration', 'campaign', 'previous']\n",
    "  categorical_features = [ 'job', 'marital', 'education', 'default', 'housing', 'loan', 'contact', 'month', 'day_of_week', 'poutcome']\n",
    "  feature_transformer = make_column_transformer((StandardScaler(), numerical_features), (OneHotEncoder(), categorical_features),remainder='passthrough')\n",
    "  # Create Feature Data\n",
    "  feature_array = feature_transformer.fit_transform(inp_data)\n",
    "  feature_cols = list(feature_transformer.get_feature_names_out())\n",
    "  feature_cols = [col.replace('standardscaler__', '').replace('onehotencoder__', '').replace('remainder__', '') for col in feature_cols]\n",
    "  feature_data = pd.DataFrame.sparse.from_spmatrix(feature_array,columns=feature_cols)\n",
    "  return feature_transformer,feature_data\n"
   ]
  },
  {
   "cell_type": "markdown",
   "metadata": {
    "id": "C4m2FDTk49RA"
   },
   "source": [
    "# Model Training"
   ]
  },
  {
   "cell_type": "code",
   "execution_count": 55,
   "metadata": {
    "id": "_qXdaa9B9b0M"
   },
   "outputs": [],
   "source": [
    "train_data = pd.read_excel('https://github.com/rsdevanathan/Customer_Subscription/blob/main/train_file.xlsx?raw=true')"
   ]
  },
  {
   "cell_type": "code",
   "execution_count": 56,
   "metadata": {
    "id": "wCxoyVvL9b3R"
   },
   "outputs": [],
   "source": [
    "# Remove Duplicates\n",
    "train_data = train_data.drop_duplicates()\n",
    "#Encode Target Variable\n",
    "train_data = train_data.replace({'y': {'yes': 1, \n",
    "                                'no': 0}})"
   ]
  },
  {
   "cell_type": "code",
   "execution_count": 57,
   "metadata": {
    "id": "_puwSyuoDsHD"
   },
   "outputs": [],
   "source": [
    "X_train = train_data.drop(columns = 'y')\n",
    "y_train = train_data[['y']]\n",
    "cw = {0:1,1:np.count_nonzero(y_train==0)/np.count_nonzero(y_train==1)}"
   ]
  },
  {
   "cell_type": "code",
   "execution_count": 58,
   "metadata": {
    "id": "1BPjgAYC9Qtc"
   },
   "outputs": [],
   "source": [
    "feature_transformer_pipeline,X_train = feature_builder(X_train)"
   ]
  },
  {
   "cell_type": "code",
   "execution_count": 59,
   "metadata": {
    "id": "X-lZsOIJ9Qz0"
   },
   "outputs": [],
   "source": [
    "smote_sampler = SMOTE(random_state=14)\n",
    "columns = X_train.columns\n",
    "arr_X, arr_y = smote_sampler.fit_resample(X_train.values, y_train)\n",
    "sampled_X = pd.DataFrame(data=arr_X,columns=X_train.columns )\n",
    "sampled_y = pd.DataFrame(data=arr_y,columns=['y'])"
   ]
  },
  {
   "cell_type": "markdown",
   "metadata": {
    "id": "MEWbr5pQRtnf"
   },
   "source": [
    "Logistic Regression"
   ]
  },
  {
   "cell_type": "code",
   "execution_count": 60,
   "metadata": {
    "colab": {
     "base_uri": "https://localhost:8080/"
    },
    "id": "-omCKK6U9Q3K",
    "outputId": "f8ebcc2b-a7c7-4efb-b740-f712474a73de"
   },
   "outputs": [
    {
     "name": "stdout",
     "output_type": "stream",
     "text": [
      "Training AUC: 0.9126389285216318\n"
     ]
    }
   ],
   "source": [
    "ml_lr = LogisticRegression(max_iter=1000)\n",
    "ml_lr.fit(sampled_X,sampled_y)\n",
    "kfold = StratifiedKFold(n_splits=3, shuffle=True)\n",
    "cv_auc = cross_val_score(ml_lr, X_train.values, y_train.values, scoring='roc_auc',cv=kfold)\n",
    "print(\"Training AUC:\",np.mean(cv_auc))"
   ]
  },
  {
   "cell_type": "markdown",
   "metadata": {
    "id": "wFTg6RIDRy4U"
   },
   "source": [
    "Random Forest"
   ]
  },
  {
   "cell_type": "code",
   "execution_count": 74,
   "metadata": {
    "colab": {
     "base_uri": "https://localhost:8080/"
    },
    "id": "KjV5Z7E1RzCK",
    "outputId": "2c9e1b78-d6fe-42df-97ff-be41a520d0c5"
   },
   "outputs": [
    {
     "name": "stdout",
     "output_type": "stream",
     "text": [
      "Training AUC: 0.9266264073790428\n"
     ]
    }
   ],
   "source": [
    "ml_rf=RandomForestClassifier(random_state=14,class_weight = cw,max_depth=100,max_features='sqrt',min_samples_leaf=5,n_estimators=500)\n",
    "ml_rf.fit(X_train, y_train)\n",
    "kfold = StratifiedKFold(n_splits=3, shuffle=True)\n",
    "cv_auc = cross_val_score(ml_rf, X_train.values, y_train.values, scoring='roc_auc',cv=kfold)\n",
    "print(\"Training AUC:\",np.mean(cv_auc))"
   ]
  },
  {
   "cell_type": "markdown",
   "metadata": {
    "id": "9vpfpc07RzOE"
   },
   "source": [
    "Neural Network"
   ]
  },
  {
   "cell_type": "code",
   "execution_count": 76,
   "metadata": {
    "colab": {
     "base_uri": "https://localhost:8080/"
    },
    "id": "WkA1x2K_RzZD",
    "outputId": "92108eb3-bbb7-4c42-ffb4-5cec2d0cfdb6"
   },
   "outputs": [
    {
     "name": "stdout",
     "output_type": "stream",
     "text": [
      "Training AUC: 0.9211359915936056\n"
     ]
    }
   ],
   "source": [
    "def create_nn():\n",
    "  model = Sequential()\n",
    "  model.add(Dense(32, input_dim=57, activation='relu'))\n",
    "  model.add(Dense(16, activation='relu'))\n",
    "  model.add(Dense(1, activation='sigmoid'))\n",
    "  model.compile(loss='binary_crossentropy', optimizer='adam', metrics=['binary_accuracy'])\n",
    "  return model\n",
    "dl_cfr_cw = KerasClassifier(build_fn=create_nn, epochs=100, batch_size=1028, verbose=0)\n",
    "dl_cfr_cw.fit(X_train, y_train,class_weight = cw)\n",
    "kfold = StratifiedKFold(n_splits=3, shuffle=True)\n",
    "cv_auc = cross_val_score(dl_cfr_cw, X_train.values, y_train.values, scoring='roc_auc',cv=kfold)\n",
    "print(\"Training AUC:\",np.mean(cv_auc))"
   ]
  },
  {
   "cell_type": "markdown",
   "metadata": {
    "id": "HbqC9zvT96vD"
   },
   "source": [
    "# Model Prediction"
   ]
  },
  {
   "cell_type": "code",
   "execution_count": 61,
   "metadata": {
    "id": "k0uwsSPQ95uN"
   },
   "outputs": [],
   "source": [
    "# Read Input Files\n",
    "test_data = pd.read_excel('https://github.com/rsdevanathan/Customer_Subscription/blob/main/test_file.xlsx?raw=true')"
   ]
  },
  {
   "cell_type": "code",
   "execution_count": 62,
   "metadata": {
    "id": "-KMJ2KkkCpuy"
   },
   "outputs": [],
   "source": [
    "test_data[\"age\"] = np.where(test_data[\"age\"] > 71, 71, test_data['age'])\n",
    "test_data[\"duration\"] = np.where(test_data[\"duration\"] > 1260, 1260, test_data['duration'])\n",
    "test_data[\"campaign\"] = np.where(test_data[\"campaign\"] > 14, 14, test_data['campaign'])\n",
    "test_data[\"previous\"] = np.where(test_data[\"previous\"] > 3, 3, test_data['previous'])"
   ]
  },
  {
   "cell_type": "code",
   "execution_count": 63,
   "metadata": {
    "id": "J9E8J3Zf38dp"
   },
   "outputs": [],
   "source": [
    "test_features = feature_transformer_pipeline.transform(test_data)"
   ]
  },
  {
   "cell_type": "code",
   "execution_count": 78,
   "metadata": {
    "id": "yA-SlwNv7HGN"
   },
   "outputs": [],
   "source": [
    "lr_pred = ml_lr.predict(test_features)\n",
    "rf_pred = ml_rf.predict(test_features)\n",
    "xgb_pred = dl_cfr_cw.predict(test_features)"
   ]
  },
  {
   "cell_type": "code",
   "execution_count": 79,
   "metadata": {
    "id": "SsK2RJwb7HJP"
   },
   "outputs": [],
   "source": [
    "prediction_data = test_data.copy()\n",
    "prediction_data['LR_Prediction'] = lr_pred\n",
    "prediction_data['RF_Prediction'] = rf_pred\n",
    "prediction_data['XGB_Prediction'] = xgb_pred\n"
   ]
  },
  {
   "cell_type": "code",
   "execution_count": 86,
   "metadata": {
    "id": "Qpw9-UOpThCa"
   },
   "outputs": [],
   "source": [
    "prediction_data['Final_Prediction'] = np.where((prediction_data['LR_Prediction']+prediction_data['RF_Prediction']+prediction_data['XGB_Prediction'])/3 > 0.5,1,0)"
   ]
  },
  {
   "cell_type": "code",
   "execution_count": 90,
   "metadata": {
    "colab": {
     "base_uri": "https://localhost:8080/"
    },
    "id": "7A1ZDfvc-cIL",
    "outputId": "8e506eb7-4aff-4eaa-9b7f-1becd3460948"
   },
   "outputs": [
    {
     "data": {
      "text/plain": [
       "0    34\n",
       "1     6\n",
       "Name: Final_Prediction, dtype: int64"
      ]
     },
     "execution_count": 90,
     "metadata": {},
     "output_type": "execute_result"
    }
   ],
   "source": [
    "prediction_data['Final_Prediction'].value_counts()"
   ]
  },
  {
   "cell_type": "code",
   "execution_count": 91,
   "metadata": {
    "id": "3CBnIBJd-cLM"
   },
   "outputs": [],
   "source": [
    "prediction_data.to_csv('Final_Prediction.csv')"
   ]
  },
  {
   "cell_type": "markdown",
   "metadata": {
    "id": "aKiy7hTpEdgW"
   },
   "source": [
    "End"
   ]
  }
 ],
 "metadata": {
  "colab": {
   "collapsed_sections": [],
   "name": "Customer_Subscription_Final_Prediction.ipynb",
   "provenance": []
  },
  "kernelspec": {
   "display_name": "Python 3",
   "language": "python",
   "name": "python3"
  },
  "language_info": {
   "codemirror_mode": {
    "name": "ipython",
    "version": 3
   },
   "file_extension": ".py",
   "mimetype": "text/x-python",
   "name": "python",
   "nbconvert_exporter": "python",
   "pygments_lexer": "ipython3",
   "version": "3.8.6"
  }
 },
 "nbformat": 4,
 "nbformat_minor": 1
}
